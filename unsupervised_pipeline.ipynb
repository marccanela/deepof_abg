{
 "cells": [
  {
   "cell_type": "markdown",
   "metadata": {},
   "source": [
    "# Pipeline analysis for unsupervised data\n",
    "Let's start simple by analyzing the data from a single individual, considering: total distance, look-around, sniffing, inner-zone time, wall-climbing, and huddle. We start by importing the necessary packages and directories."
   ]
  },
  {
   "cell_type": "code",
   "execution_count": 15,
   "metadata": {},
   "outputs": [],
   "source": [
    "import os\n",
    "import pandas as pd\n",
    "import pickle\n",
    "import deepof.data\n",
    "import deepof.visuals\n",
    "import visuals_customized\n",
    "import seaborn as sns\n",
    "import matplotlib.pyplot as plt"
   ]
  },
  {
   "cell_type": "code",
   "execution_count": 2,
   "metadata": {},
   "outputs": [],
   "source": [
    "# Open an existing DeepOF project\n",
    "directory_output = '//folder/becell/Lab Projects/ERCstG_HighMemory/Data/Marc/1) SOC/2024-01a02 cFos/'\n",
    "my_deepof_project = deepof.data.load_project(directory_output + \"deepof_tutorial_project\")"
   ]
  },
  {
   "cell_type": "code",
   "execution_count": 3,
   "metadata": {},
   "outputs": [],
   "source": [
    "# Open an existing supervised analysis\n",
    "with open(directory_output + 'supervised_annotation.pkl', 'rb') as file:\n",
    "    supervised_annotation = pickle.load(file)"
   ]
  },
  {
   "cell_type": "code",
   "execution_count": 4,
   "metadata": {},
   "outputs": [],
   "source": [
    "# Load conditions\n",
    "my_deepof_project.load_exp_conditions(directory_output + 'conditions.csv')"
   ]
  },
  {
   "cell_type": "code",
   "execution_count": 5,
   "metadata": {},
   "outputs": [],
   "source": [
    "# Define colors\n",
    "white = '#FFFFFF'\n",
    "grey_soft = '#D3D3D3'\n",
    "grey_stark = '#636466'\n",
    "blue = '#194680'\n",
    "red = '#801946'"
   ]
  },
  {
   "cell_type": "markdown",
   "metadata": {},
   "source": [
    "## Plot silhouettes and UMAP"
   ]
  },
  {
   "cell_type": "code",
   "execution_count": 10,
   "metadata": {},
   "outputs": [],
   "source": [
    "# Import trained models\n",
    "with open(directory_output + 'new_silhouette_score_dict.pkl', 'rb') as file:\n",
    "    new_silhouette_score_dict = pickle.load(file)"
   ]
  },
  {
   "cell_type": "code",
   "execution_count": 16,
   "metadata": {},
   "outputs": [
    {
     "ename": "AttributeError",
     "evalue": "module 'visuals_customized' has no attribute 'plot_silhouette_scores'",
     "output_type": "error",
     "traceback": [
      "\u001b[1;31m---------------------------------------------------------------------------\u001b[0m",
      "\u001b[1;31mAttributeError\u001b[0m                            Traceback (most recent call last)",
      "Cell \u001b[1;32mIn[16], line 2\u001b[0m\n\u001b[0;32m      1\u001b[0m \u001b[38;5;66;03m# Plot global silhouettes\u001b[39;00m\n\u001b[1;32m----> 2\u001b[0m \u001b[43mvisuals_customized\u001b[49m\u001b[38;5;241;43m.\u001b[39;49m\u001b[43mplot_silhouette_scores\u001b[49m(new_silhouette_score_dict)\n",
      "\u001b[1;31mAttributeError\u001b[0m: module 'visuals_customized' has no attribute 'plot_silhouette_scores'"
     ]
    }
   ],
   "source": [
    "# Plot global silhouettes\n",
    "visuals_customized.plot_silhouette_scores(new_silhouette_score_dict)"
   ]
  },
  {
   "cell_type": "code",
   "execution_count": null,
   "metadata": {},
   "outputs": [],
   "source": [
    "# Plot cluster silhouettes and UMAP\n",
    "visuals_customized.silhouette_diagrams(new_silhouette_score_dict, my_deepof_project, [8])"
   ]
  },
  {
   "cell_type": "markdown",
   "metadata": {},
   "source": [
    "## Plot PCA between conditions"
   ]
  },
  {
   "cell_type": "code",
   "execution_count": null,
   "metadata": {},
   "outputs": [],
   "source": [
    "# Define the coordinates for the labels of each condition\n",
    "coords_dict = {\n",
    "    'hc_ind': ['name1', [4,5]],\n",
    "    'hc_ee': ['name2', [4,5]],\n",
    "    }"
   ]
  },
  {
   "cell_type": "code",
   "execution_count": null,
   "metadata": {},
   "outputs": [],
   "source": [
    "# Define the colors for each condition\n",
    "color_dict = {\n",
    "    'hc_ind': sns.color_palette(\"Set1\")[0],,\n",
    "    'hc_ee': sns.color_palette(\"Set1\")[1],\n",
    "    }"
   ]
  },
  {
   "cell_type": "code",
   "execution_count": null,
   "metadata": {},
   "outputs": [],
   "source": [
    "ax, embedding_dataset, rotated_loading_scores, dataframe_for_titles = visuals_customized.plot_embeddings(\n",
    "    my_deepof_project,\n",
    "    supervised_annotations=supervised_annotation,\n",
    "    bin_size=120,\n",
    "    bin_index=0,\n",
    "    my_title = 'PCA first time bin',\n",
    "    my_color_dict = color_dict,\n",
    "    my_coords_dict = coords_dict\n",
    ")"
   ]
  },
  {
   "cell_type": "markdown",
   "metadata": {},
   "source": [
    "### Analyze individual PC and rotated_loading_scores"
   ]
  },
  {
   "cell_type": "code",
   "execution_count": null,
   "metadata": {},
   "outputs": [],
   "source": [
    "# Perform statistics\n",
    "import pingouin as pg\n",
    "pg.normality(embedding_dataset, 'PCA-2', 'experimental condition')\n",
    "pg.homoscedasticity(embedding_dataset, 'PCA-2', 'experimental condition')\n",
    "\n",
    "x = embedding_dataset[embedding_dataset['experimental condition'] == 'hc_ee']['PCA-2']\n",
    "y = embedding_dataset[embedding_dataset['experimental condition'] == 'hc_ind']['PCA-2']\n",
    "pg.ttest(x, y).round(3)\n",
    "\n",
    "# pg.anova(embedding_dataset, 'PCA-1', 'experimental condition')\n",
    "# pg.pairwise_tukey(embedding_dataset, 'PCA-1', 'experimental condition')"
   ]
  },
  {
   "cell_type": "code",
   "execution_count": null,
   "metadata": {},
   "outputs": [],
   "source": [
    "# Save your statistics in a dictionary\n",
    "stats_dict = {\n",
    "    '*': ['hc_ee', 'hc_ind']\n",
    "    }"
   ]
  },
  {
   "cell_type": "code",
   "execution_count": null,
   "metadata": {},
   "outputs": [],
   "source": [
    "# Plot the PC components\n",
    "visuals_customized.boxplot(embedding_dataset, color_dict, 'PCA-1', stats_dict)"
   ]
  },
  {
   "cell_type": "code",
   "execution_count": null,
   "metadata": {},
   "outputs": [],
   "source": [
    "# Plot the rotated loading scores of PC components\n",
    "visuals_customized.lollipop(dataframe_for_titles, rotated_loading_scores, 'PCA-1')"
   ]
  },
  {
   "cell_type": "markdown",
   "metadata": {},
   "source": [
    "## Plot PCA between time points"
   ]
  },
  {
   "cell_type": "code",
   "execution_count": null,
   "metadata": {},
   "outputs": [],
   "source": [
    "# Define the coordinates for the labels of each condition\n",
    "coords_dict = {\n",
    "#    'bin0': ['name1', [4,5]],\n",
    "#    'bin1': ['name2', [4,5]],\n",
    "    'bin2': ['Before tone', [-4,5]],\n",
    "    'bin3': ['During tone', [4,3.5]],\n",
    "    }"
   ]
  },
  {
   "cell_type": "code",
   "execution_count": null,
   "metadata": {},
   "outputs": [],
   "source": [
    "# Define the colors for each condition\n",
    "color_dict = {\n",
    "#    'bin0': sns.color_palette(\"Set1\")[0],\n",
    "#    'bin1': sns.color_palette(\"Set1\")[1],\n",
    "    'bin2': grey_stark,\n",
    "    'bin3': blue\n",
    "    }"
   ]
  },
  {
   "cell_type": "code",
   "execution_count": null,
   "metadata": {},
   "outputs": [],
   "source": [
    "ax, embedding_dataset, rotated_loading_scores, dataframe_for_titles, concat_hue = visuals_customized.plot_embeddings_timelapse(\n",
    "    my_deepof_project,\n",
    "    supervised_annotations=supervised_annotation,\n",
    "    bin_size=60,\n",
    "    bin_index_list=[2,3],\n",
    "    my_title = 'No-shock',\n",
    "    my_color_dict = color_dict,\n",
    "    my_coords_dict = coords_dict,\n",
    "    specific_condition = 'noshock',\n",
    ")"
   ]
  },
  {
   "cell_type": "markdown",
   "metadata": {},
   "source": [
    "### Analyze individual PC, rotated_loading_scores (across time) "
   ]
  },
  {
   "cell_type": "code",
   "execution_count": null,
   "metadata": {},
   "outputs": [],
   "source": [
    "# Perform statistics\n",
    "import pingouin as pg\n",
    "pg.normality(embedding_dataset, 'PCA-1', 'experimental condition')"
   ]
  },
  {
   "cell_type": "code",
   "execution_count": null,
   "metadata": {},
   "outputs": [],
   "source": [
    "pg.homoscedasticity(embedding_dataset, 'PCA-1', 'experimental condition')"
   ]
  },
  {
   "cell_type": "code",
   "execution_count": null,
   "metadata": {},
   "outputs": [],
   "source": [
    "x = embedding_dataset[embedding_dataset['experimental condition'] == 'bin2']['PCA-1']\n",
    "y = embedding_dataset[embedding_dataset['experimental condition'] == 'bin3']['PCA-1']\n",
    "pg.ttest(x, y).round(3)"
   ]
  },
  {
   "cell_type": "code",
   "execution_count": null,
   "metadata": {},
   "outputs": [],
   "source": [
    "pg.anova(embedding_dataset, 'PCA-1', 'experimental condition')\n",
    "pg.pairwise_tukey(embedding_dataset, 'PCA-1', 'experimental condition')"
   ]
  },
  {
   "cell_type": "code",
   "execution_count": null,
   "metadata": {},
   "outputs": [],
   "source": [
    "# Save your statistics in a dictionary\n",
    "stats_dict = {\n",
    "    #'**': ['bin0', 'bin1'],\n",
    "    #'***': ['bin0', 'bin2'],\n",
    "    'ns': ['bin2', 'bin3'],\n",
    "    }"
   ]
  },
  {
   "cell_type": "code",
   "execution_count": null,
   "metadata": {},
   "outputs": [],
   "source": [
    "# Plot the PC components\n",
    "visuals_customized.boxplot(embedding_dataset, color_dict, 'PCA-1', stats_dict)"
   ]
  },
  {
   "cell_type": "code",
   "execution_count": null,
   "metadata": {},
   "outputs": [],
   "source": [
    "# Plot the rotated loading scores of PC components\n",
    "visuals_customized.lollipop(dataframe_for_titles, rotated_loading_scores, 'PCA-1')"
   ]
  },
  {
   "cell_type": "code",
   "execution_count": null,
   "metadata": {},
   "outputs": [],
   "source": [
    "# Plot an individual behavior over bins\n",
    "visuals_customized.timelapse(dataframe_for_titles, concat_hue, 'huddle')"
   ]
  },
  {
   "cell_type": "code",
   "execution_count": null,
   "metadata": {},
   "outputs": [],
   "source": [
    "# Plot some individual behaviors over bins\n",
    "fig, (ax1, ax2, ax3) = plt.subplots(1, 3, figsize=(9, 3))\n",
    "\n",
    "visuals_customized.timelapse(dataframe_for_titles, concat_hue, 'huddle', ax=ax1)\n",
    "visuals_customized.timelapse(dataframe_for_titles, concat_hue, 'speed', ax=ax2)\n",
    "visuals_customized.timelapse(dataframe_for_titles, concat_hue, 'sniffing', ax=ax3)\n",
    "\n",
    "# ax1.set_title(\"supervised embeddings of full videos\")\n",
    "# ax2.set_title(\"supervised embeddings of first two minutes\")\n",
    "\n",
    "plt.tight_layout()\n",
    "plt.show()"
   ]
  }
 ],
 "metadata": {
  "kernelspec": {
   "display_name": "Python 3",
   "language": "python",
   "name": "python3"
  },
  "language_info": {
   "codemirror_mode": {
    "name": "ipython",
    "version": 3
   },
   "file_extension": ".py",
   "mimetype": "text/x-python",
   "name": "python",
   "nbconvert_exporter": "python",
   "pygments_lexer": "ipython3",
   "version": "3.9.18"
  }
 },
 "nbformat": 4,
 "nbformat_minor": 2
}
