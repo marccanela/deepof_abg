{
 "cells": [
  {
   "cell_type": "markdown",
   "metadata": {},
   "source": [
    "# Pipeline analysis for supervised data\n",
    "Let's start simple by analyzing the data from a single individual, considering: total distance, look-around, sniffing, inner-zone time, wall-climbing, and huddle. We start by importing the necessary packages and directories."
   ]
  },
  {
   "cell_type": "code",
   "execution_count": 64,
   "metadata": {},
   "outputs": [],
   "source": [
    "import os\n",
    "import pandas as pd\n",
    "import pickle\n",
    "import deepof.data\n",
    "import deepof.visuals\n",
    "import visuals_customized\n",
    "import seaborn as sns\n",
    "import matplotlib.pyplot as plt"
   ]
  },
  {
   "cell_type": "code",
   "execution_count": 3,
   "metadata": {},
   "outputs": [],
   "source": [
    "# Open an existing DeepOF project\n",
    "directory_output = '//folder/becell/Lab Projects/ERCstG_HighMemory/Data/Marc/1) SOC/2024-01a02 cFos/'\n",
    "my_deepof_project = deepof.data.load_project(directory_output + \"deepof_tutorial_project\")"
   ]
  },
  {
   "cell_type": "code",
   "execution_count": 4,
   "metadata": {},
   "outputs": [],
   "source": [
    "# Open an existing supervised analysis\n",
    "with open(directory_output + 'supervised_annotation.pkl', 'rb') as file:\n",
    "    supervised_annotation = pickle.load(file)"
   ]
  },
  {
   "cell_type": "code",
   "execution_count": 5,
   "metadata": {},
   "outputs": [],
   "source": [
    "# Load conditions\n",
    "my_deepof_project.load_exp_conditions(directory_output + 'conditions.csv')"
   ]
  },
  {
   "cell_type": "code",
   "execution_count": 6,
   "metadata": {},
   "outputs": [],
   "source": [
    "# Define colors\n",
    "white = '#FFFFFF'\n",
    "grey_soft = '#D3D3D3'\n",
    "grey_stark = '#636466'\n",
    "blue = '#194680'\n",
    "red = '#801946'"
   ]
  },
  {
   "cell_type": "markdown",
   "metadata": {},
   "source": [
    "### Detect outliers"
   ]
  },
  {
   "cell_type": "code",
   "execution_count": null,
   "metadata": {},
   "outputs": [],
   "source": [
    "# Detect outliers\n",
    "# Detect outliers\n",
    "specific_group = 'unpaired'\n",
    "bin_indexs = [3]\n",
    "embedding_datasets = []\n",
    "for bin_index in bin_indexs:\n",
    "    _, embedding_dataset, _, _ = visuals_customized.plot_embeddings(\n",
    "        my_deepof_project,\n",
    "        supervised_annotations=supervised_annotation,\n",
    "        bin_size=60,\n",
    "        bin_index=bin_index,\n",
    "        my_title = '',\n",
    "        my_color_dict = color_dict,\n",
    "        my_coords_dict = coords_dict,\n",
    "        # given_pca = pca # Uncomment to train a new pca\n",
    "    )\n",
    "    embedding_dataset = embedding_dataset[embedding_dataset['experimental condition'] == specific_group]\n",
    "    embedding_dataset = embedding_dataset.drop('experimental condition', axis=1)\n",
    "    embedding_dataset = embedding_dataset.rename(columns={'PCA-1': 'PCA_1_' + str(bin_index),\n",
    "                                                          'PCA-2': 'PCA_2_' + str(bin_index)})\n",
    "    \n",
    "    embedding_datasets.append(embedding_dataset)\n",
    "df = pd.concat(embedding_datasets, axis=1)\n",
    "\n",
    "# Option 1: Using Z-score\n",
    "from scipy.stats import zscore\n",
    "z_scores = zscore(df)\n",
    "abs_z_scores = abs(z_scores)"
   ]
  },
  {
   "cell_type": "code",
   "execution_count": 7,
   "metadata": {},
   "outputs": [],
   "source": [
    "del supervised_annotation['20240202_Marc_ERC SOC tone_Males_box ab_240003816_02_01_1']"
   ]
  },
  {
   "cell_type": "markdown",
   "metadata": {},
   "source": [
    "## Plot PCA between conditions"
   ]
  },
  {
   "cell_type": "code",
   "execution_count": 72,
   "metadata": {},
   "outputs": [],
   "source": [
    "# Define the coordinates for the labels of each condition\n",
    "coords_dict = {\n",
    "    'paired': ['Paired', [4,6]],\n",
    "    'unpaired': ['Unpaired', [4,5]],\n",
    "    'noshock': ['No-shock', [4,4]],    \n",
    "    }"
   ]
  },
  {
   "cell_type": "code",
   "execution_count": 73,
   "metadata": {},
   "outputs": [],
   "source": [
    "# Define the colors for each condition\n",
    "color_dict = {\n",
    "    'paired': sns.color_palette(\"Set1\")[0],\n",
    "    'unpaired': sns.color_palette(\"Set1\")[1],\n",
    "    'noshock': sns.color_palette(\"Set1\")[2],\n",
    "    }"
   ]
  },
  {
   "cell_type": "code",
   "execution_count": 75,
   "metadata": {},
   "outputs": [
    {
     "ename": "TypeError",
     "evalue": "plot_embeddings() got an unexpected keyword argument 'given_pca'",
     "output_type": "error",
     "traceback": [
      "\u001b[1;31m---------------------------------------------------------------------------\u001b[0m",
      "\u001b[1;31mTypeError\u001b[0m                                 Traceback (most recent call last)",
      "Cell \u001b[1;32mIn[75], line 1\u001b[0m\n\u001b[1;32m----> 1\u001b[0m ax, embedding_dataset, dataframe_for_titles, pca \u001b[38;5;241m=\u001b[39m \u001b[43mvisuals_customized\u001b[49m\u001b[38;5;241;43m.\u001b[39;49m\u001b[43mplot_embeddings\u001b[49m\u001b[43m(\u001b[49m\n\u001b[0;32m      2\u001b[0m \u001b[43m    \u001b[49m\u001b[43mmy_deepof_project\u001b[49m\u001b[43m,\u001b[49m\n\u001b[0;32m      3\u001b[0m \u001b[43m    \u001b[49m\u001b[43msupervised_annotations\u001b[49m\u001b[38;5;241;43m=\u001b[39;49m\u001b[43msupervised_annotation\u001b[49m\u001b[43m,\u001b[49m\n\u001b[0;32m      4\u001b[0m \u001b[43m    \u001b[49m\u001b[43mbin_size\u001b[49m\u001b[38;5;241;43m=\u001b[39;49m\u001b[38;5;241;43m60\u001b[39;49m\u001b[43m,\u001b[49m\n\u001b[0;32m      5\u001b[0m \u001b[43m    \u001b[49m\u001b[43mbin_index\u001b[49m\u001b[38;5;241;43m=\u001b[39;49m\u001b[38;5;241;43m3\u001b[39;49m\u001b[43m,\u001b[49m\n\u001b[0;32m      6\u001b[0m \u001b[43m    \u001b[49m\u001b[43mmy_title\u001b[49m\u001b[43m \u001b[49m\u001b[38;5;241;43m=\u001b[39;49m\u001b[43m \u001b[49m\u001b[38;5;124;43m'\u001b[39;49m\u001b[38;5;124;43mPCA tone\u001b[39;49m\u001b[38;5;124;43m'\u001b[39;49m\u001b[43m,\u001b[49m\n\u001b[0;32m      7\u001b[0m \u001b[43m    \u001b[49m\u001b[43mmy_color_dict\u001b[49m\u001b[43m \u001b[49m\u001b[38;5;241;43m=\u001b[39;49m\u001b[43m \u001b[49m\u001b[43mcolor_dict\u001b[49m\u001b[43m,\u001b[49m\n\u001b[0;32m      8\u001b[0m \u001b[43m    \u001b[49m\u001b[43mmy_coords_dict\u001b[49m\u001b[43m \u001b[49m\u001b[38;5;241;43m=\u001b[39;49m\u001b[43m \u001b[49m\u001b[43mcoords_dict\u001b[49m\u001b[43m,\u001b[49m\n\u001b[0;32m      9\u001b[0m \u001b[43m    \u001b[49m\u001b[43mgiven_pca\u001b[49m\u001b[43m \u001b[49m\u001b[38;5;241;43m=\u001b[39;49m\u001b[43m \u001b[49m\u001b[43mpca\u001b[49m\u001b[43m \u001b[49m\u001b[38;5;66;43;03m# Uncomment to train a new pca\u001b[39;49;00m\n\u001b[0;32m     10\u001b[0m \u001b[43m)\u001b[49m\n",
      "\u001b[1;31mTypeError\u001b[0m: plot_embeddings() got an unexpected keyword argument 'given_pca'"
     ]
    }
   ],
   "source": [
    "ax, embedding_dataset, dataframe_for_titles, pca = visuals_customized.plot_embeddings(\n",
    "    my_deepof_project,\n",
    "    supervised_annotations=supervised_annotation,\n",
    "    bin_size=60,\n",
    "    bin_index=3,\n",
    "    my_title = 'PCA tone',\n",
    "    my_color_dict = color_dict,\n",
    "    my_coords_dict = coords_dict,\n",
    "    given_pca = pca # Uncomment to train a new pca\n",
    ")"
   ]
  },
  {
   "cell_type": "markdown",
   "metadata": {},
   "source": [
    "### Analyze individual PC and rotated_loading_scores"
   ]
  },
  {
   "cell_type": "code",
   "execution_count": null,
   "metadata": {},
   "outputs": [],
   "source": [
    "# Perform statistics\n",
    "import pingouin as pg\n",
    "pg.normality(embedding_dataset, 'PCA-2', 'experimental condition')\n",
    "pg.homoscedasticity(embedding_dataset, 'PCA-2', 'experimental condition')\n",
    "\n",
    "x = embedding_dataset[embedding_dataset['experimental condition'] == 'hc_ee']['PCA-2']\n",
    "y = embedding_dataset[embedding_dataset['experimental condition'] == 'hc_ind']['PCA-2']\n",
    "pg.ttest(x, y).round(3)\n",
    "\n",
    "# pg.anova(embedding_dataset, 'PCA-1', 'experimental condition')\n",
    "# pg.pairwise_tukey(embedding_dataset, 'PCA-1', 'experimental condition')"
   ]
  },
  {
   "cell_type": "code",
   "execution_count": null,
   "metadata": {},
   "outputs": [],
   "source": [
    "# Save your statistics in a dictionary\n",
    "stats_dict = {\n",
    "    '*': ['hc_ee', 'hc_ind']\n",
    "    }"
   ]
  },
  {
   "cell_type": "code",
   "execution_count": null,
   "metadata": {},
   "outputs": [],
   "source": [
    "# Plot the PC components\n",
    "visuals_customized.boxplot(embedding_dataset, color_dict, 'PCA-1', stats_dict)"
   ]
  },
  {
   "cell_type": "code",
   "execution_count": null,
   "metadata": {},
   "outputs": [],
   "source": [
    "# Plot the rotated loading scores of PC components\n",
    "rotated_loading_scores = pca.components_\n",
    "visuals_customized.lollipop(dataframe_for_titles, rotated_loading_scores, 'PCA-1')"
   ]
  },
  {
   "cell_type": "markdown",
   "metadata": {},
   "source": [
    "## Plot PCA between time points"
   ]
  },
  {
   "cell_type": "code",
   "execution_count": 68,
   "metadata": {},
   "outputs": [],
   "source": [
    "# Define the coordinates for the labels of each condition\n",
    "coords_dict = {\n",
    "#    'bin0': ['name1', [4,5]],\n",
    "    'bin1': ['Before tone', [-4,5]],\n",
    "#    'bin2': ['Before tone', [-4,5]],\n",
    "    'bin3': ['During tone', [4,3.5]],\n",
    "    }"
   ]
  },
  {
   "cell_type": "code",
   "execution_count": 69,
   "metadata": {},
   "outputs": [],
   "source": [
    "# Define the colors for each condition\n",
    "color_dict = {\n",
    "#    'bin0': sns.color_palette(\"Set1\")[0],\n",
    "    'bin1': grey_stark,\n",
    "#    'bin2': grey_stark,\n",
    "    'bin3': blue\n",
    "    }"
   ]
  },
  {
   "cell_type": "code",
   "execution_count": 71,
   "metadata": {},
   "outputs": [
    {
     "ename": "TypeError",
     "evalue": "plot_embeddings_timelapse() got an unexpected keyword argument 'given_pca'",
     "output_type": "error",
     "traceback": [
      "\u001b[1;31m---------------------------------------------------------------------------\u001b[0m",
      "\u001b[1;31mTypeError\u001b[0m                                 Traceback (most recent call last)",
      "Cell \u001b[1;32mIn[71], line 1\u001b[0m\n\u001b[1;32m----> 1\u001b[0m ax, embedding_dataset, dataframe_for_titles, concat_hue, pca\u001b[38;5;241m=\u001b[39m \u001b[43mvisuals_customized\u001b[49m\u001b[38;5;241;43m.\u001b[39;49m\u001b[43mplot_embeddings_timelapse\u001b[49m\u001b[43m(\u001b[49m\n\u001b[0;32m      2\u001b[0m \u001b[43m    \u001b[49m\u001b[43mmy_deepof_project\u001b[49m\u001b[43m,\u001b[49m\n\u001b[0;32m      3\u001b[0m \u001b[43m    \u001b[49m\u001b[43msupervised_annotations\u001b[49m\u001b[38;5;241;43m=\u001b[39;49m\u001b[43msupervised_annotation\u001b[49m\u001b[43m,\u001b[49m\n\u001b[0;32m      4\u001b[0m \u001b[43m    \u001b[49m\u001b[43mbin_size\u001b[49m\u001b[38;5;241;43m=\u001b[39;49m\u001b[38;5;241;43m60\u001b[39;49m\u001b[43m,\u001b[49m\n\u001b[0;32m      5\u001b[0m \u001b[43m    \u001b[49m\u001b[43mbin_index_list\u001b[49m\u001b[38;5;241;43m=\u001b[39;49m\u001b[43m[\u001b[49m\u001b[38;5;241;43m1\u001b[39;49m\u001b[43m,\u001b[49m\u001b[38;5;241;43m3\u001b[39;49m\u001b[43m]\u001b[49m\u001b[43m,\u001b[49m\n\u001b[0;32m      6\u001b[0m \u001b[43m    \u001b[49m\u001b[43mmy_title\u001b[49m\u001b[43m \u001b[49m\u001b[38;5;241;43m=\u001b[39;49m\u001b[43m \u001b[49m\u001b[38;5;124;43m'\u001b[39;49m\u001b[38;5;124;43m (1-2 vs 3-4 min)\u001b[39;49m\u001b[38;5;124;43m'\u001b[39;49m\u001b[43m,\u001b[49m\n\u001b[0;32m      7\u001b[0m \u001b[43m    \u001b[49m\u001b[43mmy_color_dict\u001b[49m\u001b[43m \u001b[49m\u001b[38;5;241;43m=\u001b[39;49m\u001b[43m \u001b[49m\u001b[43mcolor_dict\u001b[49m\u001b[43m,\u001b[49m\n\u001b[0;32m      8\u001b[0m \u001b[43m    \u001b[49m\u001b[43mmy_coords_dict\u001b[49m\u001b[43m \u001b[49m\u001b[38;5;241;43m=\u001b[39;49m\u001b[43m \u001b[49m\u001b[43mcoords_dict\u001b[49m\u001b[43m,\u001b[49m\n\u001b[0;32m      9\u001b[0m \u001b[43m    \u001b[49m\u001b[43mspecific_condition\u001b[49m\u001b[43m \u001b[49m\u001b[38;5;241;43m=\u001b[39;49m\u001b[43m \u001b[49m\u001b[38;5;124;43m'\u001b[39;49m\u001b[38;5;124;43munpaired\u001b[39;49m\u001b[38;5;124;43m'\u001b[39;49m\u001b[43m,\u001b[49m\n\u001b[0;32m     10\u001b[0m \u001b[43m    \u001b[49m\u001b[43mgiven_pca\u001b[49m\u001b[43m \u001b[49m\u001b[38;5;241;43m=\u001b[39;49m\u001b[43m \u001b[49m\u001b[43mpca\u001b[49m\u001b[43m \u001b[49m\u001b[38;5;66;43;03m# Uncomment to train a new pca\u001b[39;49;00m\n\u001b[0;32m     11\u001b[0m \u001b[43m)\u001b[49m\n",
      "\u001b[1;31mTypeError\u001b[0m: plot_embeddings_timelapse() got an unexpected keyword argument 'given_pca'"
     ]
    }
   ],
   "source": [
    "ax, embedding_dataset, dataframe_for_titles, concat_hue, pca= visuals_customized.plot_embeddings_timelapse(\n",
    "    my_deepof_project,\n",
    "    supervised_annotations=supervised_annotation,\n",
    "    bin_size=60,\n",
    "    bin_index_list=[1,3],\n",
    "    my_title = ' (1-2 vs 3-4 min)',\n",
    "    my_color_dict = color_dict,\n",
    "    my_coords_dict = coords_dict,\n",
    "    specific_condition = 'unpaired',\n",
    "    given_pca = pca # Uncomment to train a new pca\n",
    ")"
   ]
  },
  {
   "cell_type": "markdown",
   "metadata": {},
   "source": [
    "### Analyze individual PC, rotated_loading_scores (across time) "
   ]
  },
  {
   "cell_type": "code",
   "execution_count": 49,
   "metadata": {},
   "outputs": [
    {
     "data": {
      "text/html": [
       "<div>\n",
       "<style scoped>\n",
       "    .dataframe tbody tr th:only-of-type {\n",
       "        vertical-align: middle;\n",
       "    }\n",
       "\n",
       "    .dataframe tbody tr th {\n",
       "        vertical-align: top;\n",
       "    }\n",
       "\n",
       "    .dataframe thead th {\n",
       "        text-align: right;\n",
       "    }\n",
       "</style>\n",
       "<table border=\"1\" class=\"dataframe\">\n",
       "  <thead>\n",
       "    <tr style=\"text-align: right;\">\n",
       "      <th></th>\n",
       "      <th>W</th>\n",
       "      <th>pval</th>\n",
       "      <th>normal</th>\n",
       "    </tr>\n",
       "    <tr>\n",
       "      <th>experimental condition</th>\n",
       "      <th></th>\n",
       "      <th></th>\n",
       "      <th></th>\n",
       "    </tr>\n",
       "  </thead>\n",
       "  <tbody>\n",
       "    <tr>\n",
       "      <th>bin1</th>\n",
       "      <td>0.918186</td>\n",
       "      <td>0.492395</td>\n",
       "      <td>True</td>\n",
       "    </tr>\n",
       "    <tr>\n",
       "      <th>bin3</th>\n",
       "      <td>0.888799</td>\n",
       "      <td>0.311940</td>\n",
       "      <td>True</td>\n",
       "    </tr>\n",
       "  </tbody>\n",
       "</table>\n",
       "</div>"
      ],
      "text/plain": [
       "                               W      pval  normal\n",
       "experimental condition                            \n",
       "bin1                    0.918186  0.492395    True\n",
       "bin3                    0.888799  0.311940    True"
      ]
     },
     "execution_count": 49,
     "metadata": {},
     "output_type": "execute_result"
    }
   ],
   "source": [
    "# Perform statistics\n",
    "import pingouin as pg\n",
    "pg.normality(embedding_dataset, 'PCA-1', 'experimental condition')"
   ]
  },
  {
   "cell_type": "code",
   "execution_count": 50,
   "metadata": {},
   "outputs": [
    {
     "data": {
      "text/html": [
       "<div>\n",
       "<style scoped>\n",
       "    .dataframe tbody tr th:only-of-type {\n",
       "        vertical-align: middle;\n",
       "    }\n",
       "\n",
       "    .dataframe tbody tr th {\n",
       "        vertical-align: top;\n",
       "    }\n",
       "\n",
       "    .dataframe thead th {\n",
       "        text-align: right;\n",
       "    }\n",
       "</style>\n",
       "<table border=\"1\" class=\"dataframe\">\n",
       "  <thead>\n",
       "    <tr style=\"text-align: right;\">\n",
       "      <th></th>\n",
       "      <th>W</th>\n",
       "      <th>pval</th>\n",
       "      <th>equal_var</th>\n",
       "    </tr>\n",
       "  </thead>\n",
       "  <tbody>\n",
       "    <tr>\n",
       "      <th>levene</th>\n",
       "      <td>2.429261</td>\n",
       "      <td>0.150148</td>\n",
       "      <td>True</td>\n",
       "    </tr>\n",
       "  </tbody>\n",
       "</table>\n",
       "</div>"
      ],
      "text/plain": [
       "               W      pval  equal_var\n",
       "levene  2.429261  0.150148       True"
      ]
     },
     "execution_count": 50,
     "metadata": {},
     "output_type": "execute_result"
    }
   ],
   "source": [
    "pg.homoscedasticity(embedding_dataset, 'PCA-1', 'experimental condition')"
   ]
  },
  {
   "cell_type": "code",
   "execution_count": 51,
   "metadata": {},
   "outputs": [
    {
     "data": {
      "text/html": [
       "<div>\n",
       "<style scoped>\n",
       "    .dataframe tbody tr th:only-of-type {\n",
       "        vertical-align: middle;\n",
       "    }\n",
       "\n",
       "    .dataframe tbody tr th {\n",
       "        vertical-align: top;\n",
       "    }\n",
       "\n",
       "    .dataframe thead th {\n",
       "        text-align: right;\n",
       "    }\n",
       "</style>\n",
       "<table border=\"1\" class=\"dataframe\">\n",
       "  <thead>\n",
       "    <tr style=\"text-align: right;\">\n",
       "      <th></th>\n",
       "      <th>T</th>\n",
       "      <th>dof</th>\n",
       "      <th>alternative</th>\n",
       "      <th>p-val</th>\n",
       "      <th>CI95%</th>\n",
       "      <th>cohen-d</th>\n",
       "      <th>BF10</th>\n",
       "      <th>power</th>\n",
       "    </tr>\n",
       "  </thead>\n",
       "  <tbody>\n",
       "    <tr>\n",
       "      <th>T-test</th>\n",
       "      <td>-3.159</td>\n",
       "      <td>10</td>\n",
       "      <td>two-sided</td>\n",
       "      <td>0.01</td>\n",
       "      <td>[-4.09, -0.71]</td>\n",
       "      <td>1.824</td>\n",
       "      <td>5.157</td>\n",
       "      <td>0.812</td>\n",
       "    </tr>\n",
       "  </tbody>\n",
       "</table>\n",
       "</div>"
      ],
      "text/plain": [
       "            T  dof alternative  p-val           CI95%  cohen-d   BF10  power\n",
       "T-test -3.159   10   two-sided   0.01  [-4.09, -0.71]    1.824  5.157  0.812"
      ]
     },
     "execution_count": 51,
     "metadata": {},
     "output_type": "execute_result"
    }
   ],
   "source": [
    "x = embedding_dataset[embedding_dataset['experimental condition'] == 'bin1']['PCA-1']\n",
    "y = embedding_dataset[embedding_dataset['experimental condition'] == 'bin3']['PCA-1']\n",
    "pg.ttest(x, y).round(3)"
   ]
  },
  {
   "cell_type": "code",
   "execution_count": null,
   "metadata": {},
   "outputs": [],
   "source": [
    "pg.anova(embedding_dataset, 'PCA-1', 'experimental condition')\n",
    "pg.pairwise_tukey(embedding_dataset, 'PCA-1', 'experimental condition')"
   ]
  },
  {
   "cell_type": "code",
   "execution_count": 52,
   "metadata": {},
   "outputs": [],
   "source": [
    "# Save your statistics in a dictionary\n",
    "stats_dict = {\n",
    "    #'**': ['bin0', 'bin1'],\n",
    "    #'***': ['bin0', 'bin2'],\n",
    "    '**': ['bin1', 'bin3'],\n",
    "    }"
   ]
  },
  {
   "cell_type": "code",
   "execution_count": 57,
   "metadata": {},
   "outputs": [
    {
     "data": {
      "text/plain": [
       "<Axes: ylabel='PCA-1 eigenvalues'>"
      ]
     },
     "execution_count": 57,
     "metadata": {},
     "output_type": "execute_result"
    },
    {
     "data": {
      "image/png": "[encoded data removed]",
      "text/plain": [
       "<Figure size 350x400 with 1 Axes>"
      ]
     },
     "metadata": {},
     "output_type": "display_data"
    }
   ],
   "source": [
    "# Plot the PC components\n",
    "visuals_customized.boxplot(embedding_dataset, color_dict, 'PCA-1', stats_dict)"
   ]
  },
  {
   "cell_type": "code",
   "execution_count": 58,
   "metadata": {},
   "outputs": [
    {
     "data": {
      "text/plain": [
       "<Axes: xlabel='PCA-1 rotated loading scores'>"
      ]
     },
     "execution_count": 58,
     "metadata": {},
     "output_type": "execute_result"
    },
    {
     "data": {
      "image/png": "[encoded data removed]",
      "text/plain": [
       "<Figure size 600x700 with 1 Axes>"
      ]
     },
     "metadata": {},
     "output_type": "display_data"
    }
   ],
   "source": [
    "# Plot the rotated loading scores of PC components\n",
    "rotated_loading_scores = pca.components_\n",
    "visuals_customized.lollipop(dataframe_for_titles, rotated_loading_scores, 'PCA-1')"
   ]
  },
  {
   "cell_type": "code",
   "execution_count": 24,
   "metadata": {},
   "outputs": [
    {
     "data": {
      "text/plain": [
       "<Axes: xlabel='Time bins', ylabel='Huddle'>"
      ]
     },
     "execution_count": 24,
     "metadata": {},
     "output_type": "execute_result"
    },
    {
     "data": {
      "image/png": "[encoded data removed]",
      "text/plain": [
       "<Figure size 300x300 with 1 Axes>"
      ]
     },
     "metadata": {},
     "output_type": "display_data"
    }
   ],
   "source": [
    "# Plot an individual behavior over bins\n",
    "visuals_customized.timelapse(dataframe_for_titles, concat_hue, 'huddle')"
   ]
  },
  {
   "cell_type": "code",
   "execution_count": 59,
   "metadata": {},
   "outputs": [
    {
     "data": {
      "image/png": "[encoded data removed]",
      "text/plain": [
       "<Figure size 900x300 with 3 Axes>"
      ]
     },
     "metadata": {},
     "output_type": "display_data"
    }
   ],
   "source": [
    "# Plot some individual behaviors over bins\n",
    "fig, (ax1, ax2, ax3) = plt.subplots(1, 3, figsize=(9, 3))\n",
    "\n",
    "visuals_customized.timelapse(dataframe_for_titles, concat_hue, 'huddle', ax=ax1)\n",
    "visuals_customized.timelapse(dataframe_for_titles, concat_hue, 'speed', ax=ax2)\n",
    "visuals_customized.timelapse(dataframe_for_titles, concat_hue, 'sniffing', ax=ax3)\n",
    "\n",
    "# ax1.set_title(\"supervised embeddings of full videos\")\n",
    "# ax2.set_title(\"supervised embeddings of first two minutes\")\n",
    "\n",
    "plt.tight_layout()\n",
    "plt.show()"
   ]
  }
 ],
 "metadata": {
  "kernelspec": {
   "display_name": "Python 3",
   "language": "python",
   "name": "python3"
  },
  "language_info": {
   "codemirror_mode": {
    "name": "ipython",
    "version": 3
   },
   "file_extension": ".py",
   "mimetype": "text/x-python",
   "name": "python",
   "nbconvert_exporter": "python",
   "pygments_lexer": "ipython3",
   "version": "3.9.18"
  }
 },
 "nbformat": 4,
 "nbformat_minor": 2
}
