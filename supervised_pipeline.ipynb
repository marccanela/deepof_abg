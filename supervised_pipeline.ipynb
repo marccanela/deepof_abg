{
 "cells": [
  {
   "cell_type": "markdown",
   "metadata": {},
   "source": [
    "# Pipeline analysis for supervised data\n",
    "Let's start simple by analyzing the data from a single individual, considering: total distance, look-around, sniffing, inner-zone time, wall-climbing, and huddle. We start by importing the necessary packages and directories."
   ]
  },
  {
   "cell_type": "code",
   "execution_count": null,
   "metadata": {},
   "outputs": [],
   "source": [
    "import os\n",
    "import pandas as pd\n",
    "import pickle\n",
    "import deepof.data\n",
    "import deepof.visuals\n",
    "import visuals_customized\n",
    "import seaborn as sns\n",
    "import matplotlib.pyplot as plt"
   ]
  },
  {
   "cell_type": "code",
   "execution_count": null,
   "metadata": {},
   "outputs": [],
   "source": [
    "# Open an existing DeepOF project\n",
    "directory_output = '//folder/becell/Lab Projects/ERCstG_HighMemory/Data/Marc/1) SOC/2024-01a02 cFos/'\n",
    "my_deepof_project = deepof.data.load_project(directory_output + \"deepof_tutorial_project\")"
   ]
  },
  {
   "cell_type": "code",
   "execution_count": null,
   "metadata": {},
   "outputs": [],
   "source": [
    "# Open an existing supervised analysis\n",
    "with open(directory_output + 'supervised_annotation.pkl', 'rb') as file:\n",
    "    supervised_annotation = pickle.load(file)"
   ]
  },
  {
   "cell_type": "code",
   "execution_count": null,
   "metadata": {},
   "outputs": [],
   "source": [
    "# Load conditions\n",
    "my_deepof_project.load_exp_conditions(directory_output + 'conditions.csv')"
   ]
  },
  {
   "cell_type": "code",
   "execution_count": null,
   "metadata": {},
   "outputs": [],
   "source": [
    "# Define colors\n",
    "white = '#FFFFFF'\n",
    "grey_soft = '#D3D3D3'\n",
    "grey_stark = '#636466'\n",
    "blue = '#194680'\n",
    "red = '#801946'"
   ]
  },
  {
   "cell_type": "markdown",
   "metadata": {},
   "source": [
    "## Plot PCA between conditions"
   ]
  },
  {
   "cell_type": "code",
   "execution_count": null,
   "metadata": {},
   "outputs": [],
   "source": [
    "# Define the coordinates for the labels of each condition\n",
    "coords_dict = {\n",
    "    'paired': ['paired', [1,3]],\n",
    "    'unpaired': ['unpaired', [2,4]],\n",
    "    'noshock': ['no-shock', [3,5]],\n",
    "    }"
   ]
  },
  {
   "cell_type": "code",
   "execution_count": null,
   "metadata": {},
   "outputs": [],
   "source": [
    "# Define the colors for each condition\n",
    "color_dict = {\n",
    "    'paired': grey_stark,\n",
    "    'unpaired': blue,\n",
    "    'noshock': red\n",
    "    }"
   ]
  },
  {
   "cell_type": "code",
   "execution_count": null,
   "metadata": {},
   "outputs": [],
   "source": [
    "ax, embedding_dataset, dataframe_for_titles, pca = visuals_customized.plot_embeddings(\n",
    "    my_deepof_project,\n",
    "    supervised_annotations=supervised_annotation,\n",
    "    bin_size=60,\n",
    "    bin_index=2,\n",
    "    my_title = '',\n",
    "    my_color_dict = color_dict,\n",
    "    my_coords_dict = coords_dict,\n",
    "    # given_pca = pca # Uncomment to train a new pca\n",
    ")"
   ]
  },
  {
   "cell_type": "markdown",
   "metadata": {},
   "source": [
    "### Analyze individual PC and rotated_loading_scores"
   ]
  },
  {
   "cell_type": "code",
   "execution_count": null,
   "metadata": {},
   "outputs": [],
   "source": [
    "# Perform statistics\n",
    "import pingouin as pg\n",
    "pg.normality(embedding_dataset, 'PCA-2', 'experimental condition')"
   ]
  },
  {
   "cell_type": "code",
   "execution_count": null,
   "metadata": {},
   "outputs": [],
   "source": [
    "pg.homoscedasticity(embedding_dataset, 'PCA-2', 'experimental condition')"
   ]
  },
  {
   "cell_type": "code",
   "execution_count": null,
   "metadata": {},
   "outputs": [],
   "source": [
    "x = embedding_dataset[embedding_dataset['experimental condition'] == 'hc_ee']['PCA-2']\n",
    "y = embedding_dataset[embedding_dataset['experimental condition'] == 'hc_ind']['PCA-2']\n",
    "pg.ttest(x, y).round(3)"
   ]
  },
  {
   "cell_type": "code",
   "execution_count": null,
   "metadata": {},
   "outputs": [],
   "source": [
    "# pg.anova(embedding_dataset, 'PCA-1', 'experimental condition')\n",
    "# pg.pairwise_tukey(embedding_dataset, 'PCA-1', 'experimental condition')"
   ]
  },
  {
   "cell_type": "code",
   "execution_count": null,
   "metadata": {},
   "outputs": [],
   "source": [
    "# Save your statistics in a dictionary\n",
    "stats_dict = {\n",
    "    '**': ['paired', 'unpaired']\n",
    "    }"
   ]
  },
  {
   "cell_type": "code",
   "execution_count": null,
   "metadata": {},
   "outputs": [],
   "source": [
    "# Plot the PC components\n",
    "visuals_customized.boxplot(embedding_dataset, color_dict, 'PCA-1', stats_dict)"
   ]
  },
  {
   "cell_type": "code",
   "execution_count": null,
   "metadata": {},
   "outputs": [],
   "source": [
    "# Plot the rotated loading scores of PC components\n",
    "rotated_loading_scores = pca.components_\n",
    "visuals_customized.lollipop(dataframe_for_titles, rotated_loading_scores, 'PCA-1')"
   ]
  },
  {
   "cell_type": "markdown",
   "metadata": {},
   "source": [
    "## Plot PCA between time points"
   ]
  },
  {
   "cell_type": "code",
   "execution_count": null,
   "metadata": {},
   "outputs": [],
   "source": [
    "# Define the coordinates for the labels of each condition\n",
    "coords_dict = {\n",
    "#    'bin0': ['name1', [4,5]],\n",
    "#    'bin1': ['name2', [4,5]],\n",
    "    'bin2': ['Before tone', [-4,4]],\n",
    "    'bin3': ['During tone', [4,3.5]],\n",
    "    }"
   ]
  },
  {
   "cell_type": "code",
   "execution_count": null,
   "metadata": {},
   "outputs": [],
   "source": [
    "# Define the colors for each condition\n",
    "color_dict = {\n",
    "#    'bin0': sns.color_palette(\"Set1\")[0],\n",
    "#    'bin1': sns.color_palette(\"Set1\")[1],\n",
    "    'bin2': grey_stark,\n",
    "    'bin3': blue\n",
    "    }"
   ]
  },
  {
   "cell_type": "code",
   "execution_count": null,
   "metadata": {},
   "outputs": [],
   "source": [
    "ax, embedding_dataset, dataframe_for_titles, concat_hue, pca = visuals_customized.plot_embeddings_timelapse(\n",
    "    my_deepof_project,\n",
    "    supervised_annotations=supervised_annotation,\n",
    "    bin_size=60,\n",
    "    bin_index_list=[2,3],\n",
    "    my_title = 'Paired',\n",
    "    my_color_dict = color_dict,\n",
    "    my_coords_dict = coords_dict,\n",
    "    specific_condition = 'unpaired',\n",
    "    given_pca = pca # Uncomment to train a new pca\n",
    ")"
   ]
  },
  {
   "cell_type": "markdown",
   "metadata": {},
   "source": [
    "### Analyze individual PC, rotated_loading_scores (across time) "
   ]
  },
  {
   "cell_type": "code",
   "execution_count": null,
   "metadata": {},
   "outputs": [],
   "source": [
    "# Perform statistics\n",
    "import pingouin as pg\n",
    "pg.normality(embedding_dataset, 'PCA-1', 'experimental condition')"
   ]
  },
  {
   "cell_type": "code",
   "execution_count": null,
   "metadata": {},
   "outputs": [],
   "source": [
    "pg.homoscedasticity(embedding_dataset, 'PCA-1', 'experimental condition')"
   ]
  },
  {
   "cell_type": "code",
   "execution_count": null,
   "metadata": {},
   "outputs": [],
   "source": [
    "x = embedding_dataset[embedding_dataset['experimental condition'] == 'bin2']['PCA-1']\n",
    "y = embedding_dataset[embedding_dataset['experimental condition'] == 'bin3']['PCA-1']\n",
    "pg.ttest(x, y).round(3)"
   ]
  },
  {
   "cell_type": "code",
   "execution_count": null,
   "metadata": {},
   "outputs": [],
   "source": [
    "pg.anova(embedding_dataset, 'PCA-1', 'experimental condition')\n",
    "pg.pairwise_tukey(embedding_dataset, 'PCA-1', 'experimental condition')"
   ]
  },
  {
   "cell_type": "code",
   "execution_count": null,
   "metadata": {},
   "outputs": [],
   "source": [
    "# Save your statistics in a dictionary\n",
    "stats_dict = {\n",
    "    #'**': ['bin0', 'bin1'],\n",
    "    #'***': ['bin0', 'bin2'],\n",
    "    '*': ['bin2', 'bin3'],\n",
    "    }"
   ]
  },
  {
   "cell_type": "code",
   "execution_count": null,
   "metadata": {},
   "outputs": [],
   "source": [
    "# Plot the PC components\n",
    "visuals_customized.boxplot(embedding_dataset, color_dict, 'PCA-1', stats_dict)"
   ]
  },
  {
   "cell_type": "code",
   "execution_count": null,
   "metadata": {},
   "outputs": [],
   "source": [
    "# Plot the rotated loading scores of PC components\n",
    "rotated_loading_scores = pca.components_\n",
    "visuals_customized.lollipop(dataframe_for_titles, rotated_loading_scores, 'PCA-1')"
   ]
  },
  {
   "cell_type": "code",
   "execution_count": null,
   "metadata": {},
   "outputs": [],
   "source": [
    "# Plot an individual behavior over bins\n",
    "visuals_customized.timelapse(dataframe_for_titles, concat_hue, 'huddle')"
   ]
  },
  {
   "cell_type": "code",
   "execution_count": null,
   "metadata": {},
   "outputs": [],
   "source": [
    "# Plot some individual behaviors over bins\n",
    "fig, (ax1, ax2, ax3, ax4, ax5) = plt.subplots(1, 5, figsize=(15, 3))\n",
    "\n",
    "visuals_customized.timelapse(dataframe_for_titles, concat_hue, 'huddle', ax=ax1)\n",
    "visuals_customized.timelapse(dataframe_for_titles, concat_hue, 'sniffing', ax=ax2)\n",
    "visuals_customized.timelapse(dataframe_for_titles, concat_hue, 'climbing', ax=ax3)\n",
    "visuals_customized.timelapse(dataframe_for_titles, concat_hue, 'lookaround', ax=ax4)\n",
    "visuals_customized.timelapse(dataframe_for_titles, concat_hue, 'speed', ax=ax5)\n",
    "\n",
    "# ax1.set_title(\"supervised embeddings of full videos\")\n",
    "# ax2.set_title(\"supervised embeddings of first two minutes\")\n",
    "\n",
    "plt.tight_layout()\n",
    "plt.show()"
   ]
  }
 ],
 "metadata": {
  "kernelspec": {
   "display_name": "Python 3",
   "language": "python",
   "name": "python3"
  },
  "language_info": {
   "codemirror_mode": {
    "name": "ipython",
    "version": 3
   },
   "file_extension": ".py",
   "mimetype": "text/x-python",
   "name": "python",
   "nbconvert_exporter": "python",
   "pygments_lexer": "ipython3",
   "version": "3.9.18"
  }
 },
 "nbformat": 4,
 "nbformat_minor": 2
}
